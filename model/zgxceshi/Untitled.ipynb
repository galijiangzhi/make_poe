{
 "cells": [
  {
   "cell_type": "code",
   "execution_count": 5,
   "id": "552b2222-632b-4523-9624-6069b3307c81",
   "metadata": {
    "ExecuteTime": {
     "end_time": "2025-05-20T01:31:08.548916Z",
     "start_time": "2025-05-20T01:31:06.645213Z"
    }
   },
   "outputs": [
    {
     "name": "stdout",
     "output_type": "stream",
     "text": [
      "True\n"
     ]
    }
   ],
   "source": [
    "import torch\n",
    "\n",
    "print(torch.cuda.is_available())  # 返回 True 表示 CUDA 可用"
   ]
  },
  {
   "cell_type": "code",
   "execution_count": null,
   "id": "e4b22a23e4d82b14",
   "metadata": {},
   "outputs": [],
   "source": [
    "! pip install -q transformers==4.35.2 einops transformers_stream_generator bitsandbytes datasets accelerate tiktoken gradio"
   ]
  },
  {
   "cell_type": "code",
   "execution_count": 11,
   "id": "1a4eee84-1a7a-4bf3-a28d-9ffc7cd78720",
   "metadata": {},
   "outputs": [
    {
     "name": "stdout",
     "output_type": "stream",
     "text": [
      "Requirement already satisfied: accelerate in f:\\anaconda\\lib\\site-packages (1.6.0)\n",
      "Requirement already satisfied: bitsandbytes in f:\\anaconda\\lib\\site-packages (0.45.4)\n",
      "Requirement already satisfied: numpy<3.0.0,>=1.17 in f:\\anaconda\\lib\\site-packages (from accelerate) (1.26.4)\n",
      "Requirement already satisfied: packaging>=20.0 in f:\\anaconda\\lib\\site-packages (from accelerate) (24.1)\n",
      "Requirement already satisfied: psutil in f:\\anaconda\\lib\\site-packages (from accelerate) (5.9.0)\n",
      "Requirement already satisfied: pyyaml in f:\\anaconda\\lib\\site-packages (from accelerate) (6.0.1)\n",
      "Requirement already satisfied: torch>=2.0.0 in f:\\anaconda\\lib\\site-packages (from accelerate) (2.6.0)\n",
      "Requirement already satisfied: huggingface-hub>=0.21.0 in f:\\anaconda\\lib\\site-packages (from accelerate) (0.30.1)\n",
      "Requirement already satisfied: safetensors>=0.4.3 in f:\\anaconda\\lib\\site-packages (from accelerate) (0.5.3)\n",
      "Requirement already satisfied: filelock in f:\\anaconda\\lib\\site-packages (from huggingface-hub>=0.21.0->accelerate) (3.13.1)\n",
      "Requirement already satisfied: fsspec>=2023.5.0 in f:\\anaconda\\lib\\site-packages (from huggingface-hub>=0.21.0->accelerate) (2024.6.1)\n",
      "Requirement already satisfied: requests in f:\\anaconda\\lib\\site-packages (from huggingface-hub>=0.21.0->accelerate) (2.32.3)\n",
      "Requirement already satisfied: tqdm>=4.42.1 in f:\\anaconda\\lib\\site-packages (from huggingface-hub>=0.21.0->accelerate) (4.66.5)\n",
      "Requirement already satisfied: typing-extensions>=3.7.4.3 in f:\\anaconda\\lib\\site-packages (from huggingface-hub>=0.21.0->accelerate) (4.11.0)\n",
      "Requirement already satisfied: networkx in f:\\anaconda\\lib\\site-packages (from torch>=2.0.0->accelerate) (3.3)\n",
      "Requirement already satisfied: jinja2 in f:\\anaconda\\lib\\site-packages (from torch>=2.0.0->accelerate) (3.1.4)\n",
      "Requirement already satisfied: setuptools in f:\\anaconda\\lib\\site-packages (from torch>=2.0.0->accelerate) (75.1.0)\n",
      "Requirement already satisfied: sympy==1.13.1 in f:\\anaconda\\lib\\site-packages (from torch>=2.0.0->accelerate) (1.13.1)\n",
      "Requirement already satisfied: mpmath<1.4,>=1.1.0 in f:\\anaconda\\lib\\site-packages (from sympy==1.13.1->torch>=2.0.0->accelerate) (1.3.0)\n",
      "Requirement already satisfied: colorama in f:\\anaconda\\lib\\site-packages (from tqdm>=4.42.1->huggingface-hub>=0.21.0->accelerate) (0.4.6)\n",
      "Requirement already satisfied: MarkupSafe>=2.0 in f:\\anaconda\\lib\\site-packages (from jinja2->torch>=2.0.0->accelerate) (2.1.3)\n",
      "Requirement already satisfied: charset-normalizer<4,>=2 in f:\\anaconda\\lib\\site-packages (from requests->huggingface-hub>=0.21.0->accelerate) (3.3.2)\n",
      "Requirement already satisfied: idna<4,>=2.5 in f:\\anaconda\\lib\\site-packages (from requests->huggingface-hub>=0.21.0->accelerate) (3.7)\n",
      "Requirement already satisfied: urllib3<3,>=1.21.1 in f:\\anaconda\\lib\\site-packages (from requests->huggingface-hub>=0.21.0->accelerate) (2.2.3)\n",
      "Requirement already satisfied: certifi>=2017.4.17 in f:\\anaconda\\lib\\site-packages (from requests->huggingface-hub>=0.21.0->accelerate) (2025.1.31)\n"
     ]
    }
   ],
   "source": [
    "! pip install accelerate bitsandbytes"
   ]
  },
  {
   "cell_type": "code",
   "execution_count": null,
   "id": "b50cadc1-bdc7-4734-9f8e-7609e3ff1d81",
   "metadata": {},
   "outputs": [],
   "source": []
  },
  {
   "cell_type": "code",
   "execution_count": 1,
   "id": "df3febdf-451c-410e-aed5-d3dd66fa38cb",
   "metadata": {},
   "outputs": [
    {
     "name": "stderr",
     "output_type": "stream",
     "text": [
      "F:\\anaconda\\Lib\\site-packages\\transformers\\utils\\generic.py:441: FutureWarning: `torch.utils._pytree._register_pytree_node` is deprecated. Please use `torch.utils._pytree.register_pytree_node` instead.\n",
      "  _torch_pytree._register_pytree_node(\n"
     ]
    }
   ],
   "source": [
    "import transformers\n",
    "from transformers import AutoModelForCausalLM, AutoTokenizer, BitsAndBytesConfig\n",
    "import torch"
   ]
  },
  {
   "cell_type": "markdown",
   "id": "78131038-0360-43e9-b77b-77b3baa123e5",
   "metadata": {},
   "source": [
    "print('''downloading model files ...\\nThis step usually takes several minutes.\\n''')\n",
    "! git clone https://www.modelscope.cn/CharPoet/CharPoet.git\n",
    "print('''\\nmodel files downloaded.''')"
   ]
  },
  {
   "cell_type": "code",
   "execution_count": null,
   "id": "9de4b2c6-8c6d-4258-9d17-1e140f88802f",
   "metadata": {},
   "outputs": [
    {
     "name": "stderr",
     "output_type": "stream",
     "text": [
      "F:\\anaconda\\Lib\\site-packages\\transformers\\utils\\generic.py:309: FutureWarning: `torch.utils._pytree._register_pytree_node` is deprecated. Please use `torch.utils._pytree.register_pytree_node` instead.\n",
      "  _torch_pytree._register_pytree_node(\n",
      "F:\\anaconda\\Lib\\site-packages\\transformers\\utils\\generic.py:309: FutureWarning: `torch.utils._pytree._register_pytree_node` is deprecated. Please use `torch.utils._pytree.register_pytree_node` instead.\n",
      "  _torch_pytree._register_pytree_node(\n",
      "F:\\anaconda\\Lib\\site-packages\\transformers\\utils\\generic.py:309: FutureWarning: `torch.utils._pytree._register_pytree_node` is deprecated. Please use `torch.utils._pytree.register_pytree_node` instead.\n",
      "  _torch_pytree._register_pytree_node(\n"
     ]
    },
    {
     "data": {
      "application/vnd.jupyter.widget-view+json": {
       "model_id": "bc1a75fa3ade4a5eb7951abc139e91da",
       "version_major": 2,
       "version_minor": 0
      },
      "text/plain": [
       "Loading checkpoint shards:   0%|          | 0/4 [00:00<?, ?it/s]"
      ]
     },
     "metadata": {},
     "output_type": "display_data"
    }
   ],
   "source": [
    "quantization_config = BitsAndBytesConfig(load_in_8bit=True)\n",
    "# model = AutoModelForCausalLM.from_pretrained('./CharPoet', device_map='auto', trust_remote_code=True, quantization_config=quantization_config)\n",
    "model = AutoModelForCausalLM.from_pretrained('./CharPoet', device_map='auto', trust_remote_code=True, torch_dtype=torch.float16, quantization_config=None)\n",
    "tokenizer = AutoTokenizer.from_pretrained('./CharPoet', trust_remote_code=True)"
   ]
  },
  {
   "cell_type": "code",
   "execution_count": null,
   "id": "878b6b23-ad17-4869-b5cd-067275389d07",
   "metadata": {},
   "outputs": [],
   "source": [
    "from CharPoet.utils import write_poem"
   ]
  },
  {
   "cell_type": "code",
   "execution_count": null,
   "id": "e77a1937-513b-4b6b-818e-ebafc6985b8b",
   "metadata": {},
   "outputs": [],
   "source": [
    "import gradio as gr\n",
    "\n",
    "demo = gr.Interface(\n",
    "    fn = lambda prompt, rhythmic: write_poem(model, tokenizer, prompt, rhythmic),\n",
    "    inputs=[gr.Textbox(label=\"提示/Prompt\", value=\"请帮我写一首诗，关键词是“春暖花开”\")\n",
    "            ,gr.Radio([\"五言绝句/Wuyanjueju\", \"七言绝句/Qiyanjueju\", \"五言律诗/Wuyanlvshi\", \"七言律诗/Qiyanlvshi\", \"如梦令/Rumengling\", \"减字木兰花/Jianzimulanhua\", \"清平乐/Qingpingyue\", \"蝶恋花/Dielianhua\", \"满江红/Manjianghong\" , \"沁园春/Qinyuanchun\", \"水调歌头/Shuidiaogetou\", \"菩萨蛮/Pusaman\", \"卜算子/Busuanzi\"], label=\"诗词种类/Format type\", value='七言绝句/Qiyanjueju')\n",
    "            ],\n",
    "    outputs=gr.Textbox(label=\"诗歌创作结果/Result\"),\n",
    "    examples = [\n",
    "        [\"Write me a poem about Spring.\", \"如梦令/Rumengling\"],\n",
    "        [\"Introduce New York city.\", \"沁园春/Qinyuanchun\"]\n",
    "    ],\n",
    "    title=\"CharPoet\",\n",
    "    description=\"poem generator based on token-free LLM\"\n",
    ")\n",
    "\n",
    "demo.launch()"
   ]
  },
  {
   "cell_type": "code",
   "execution_count": 10,
   "id": "782199d8-5875-49b2-b270-284e000e0545",
   "metadata": {},
   "outputs": [
    {
     "name": "stdout",
     "output_type": "stream",
     "text": [
      "{'detail': 'Not Found'}\n"
     ]
    }
   ],
   "source": [
    "import requests\n",
    "\n",
    "# 替换为你的 Gradio 服务地址（默认是本地 7860 端口）\n",
    "API_URL = \"http://127.0.0.1:7860/api/predict\"  \n",
    "\n",
    "data = {\n",
    "    \"data\": [\n",
    "        \"请写一首关于秋天的诗\",  # prompt\n",
    "        \"五言绝句/Wuyanjueju\"   # rhythmic\n",
    "    ]\n",
    "}\n",
    "\n",
    "response = requests.post(API_URL, json=data)\n",
    "print(response.json())  # 输出结果会包含诗歌内容"
   ]
  },
  {
   "cell_type": "code",
   "execution_count": 11,
   "id": "d6817141-8706-401d-9078-2499499b88f2",
   "metadata": {},
   "outputs": [
    {
     "name": "stdout",
     "output_type": "stream",
     "text": [
      "Requirement already satisfied: gradio_client in f:\\anaconda\\lib\\site-packages (1.8.0)\n",
      "Requirement already satisfied: fsspec in f:\\anaconda\\lib\\site-packages (from gradio_client) (2024.6.1)\n",
      "Requirement already satisfied: httpx>=0.24.1 in f:\\anaconda\\lib\\site-packages (from gradio_client) (0.27.0)\n",
      "Requirement already satisfied: huggingface-hub>=0.19.3 in f:\\anaconda\\lib\\site-packages (from gradio_client) (0.30.1)\n",
      "Requirement already satisfied: packaging in f:\\anaconda\\lib\\site-packages (from gradio_client) (24.1)\n",
      "Requirement already satisfied: typing-extensions~=4.0 in f:\\anaconda\\lib\\site-packages (from gradio_client) (4.11.0)\n",
      "Requirement already satisfied: websockets<16.0,>=10.0 in f:\\anaconda\\lib\\site-packages (from gradio_client) (15.0.1)\n",
      "Requirement already satisfied: anyio in f:\\anaconda\\lib\\site-packages (from httpx>=0.24.1->gradio_client) (4.2.0)\n",
      "Requirement already satisfied: certifi in f:\\anaconda\\lib\\site-packages (from httpx>=0.24.1->gradio_client) (2025.1.31)\n",
      "Requirement already satisfied: httpcore==1.* in f:\\anaconda\\lib\\site-packages (from httpx>=0.24.1->gradio_client) (1.0.2)\n",
      "Requirement already satisfied: idna in f:\\anaconda\\lib\\site-packages (from httpx>=0.24.1->gradio_client) (3.7)\n",
      "Requirement already satisfied: sniffio in f:\\anaconda\\lib\\site-packages (from httpx>=0.24.1->gradio_client) (1.3.0)\n",
      "Requirement already satisfied: h11<0.15,>=0.13 in f:\\anaconda\\lib\\site-packages (from httpcore==1.*->httpx>=0.24.1->gradio_client) (0.14.0)\n",
      "Requirement already satisfied: filelock in f:\\anaconda\\lib\\site-packages (from huggingface-hub>=0.19.3->gradio_client) (3.13.1)\n",
      "Requirement already satisfied: pyyaml>=5.1 in f:\\anaconda\\lib\\site-packages (from huggingface-hub>=0.19.3->gradio_client) (6.0.1)\n",
      "Requirement already satisfied: requests in f:\\anaconda\\lib\\site-packages (from huggingface-hub>=0.19.3->gradio_client) (2.32.3)\n",
      "Requirement already satisfied: tqdm>=4.42.1 in f:\\anaconda\\lib\\site-packages (from huggingface-hub>=0.19.3->gradio_client) (4.66.5)\n",
      "Requirement already satisfied: colorama in f:\\anaconda\\lib\\site-packages (from tqdm>=4.42.1->huggingface-hub>=0.19.3->gradio_client) (0.4.6)\n",
      "Requirement already satisfied: charset-normalizer<4,>=2 in f:\\anaconda\\lib\\site-packages (from requests->huggingface-hub>=0.19.3->gradio_client) (3.3.2)\n",
      "Requirement already satisfied: urllib3<3,>=1.21.1 in f:\\anaconda\\lib\\site-packages (from requests->huggingface-hub>=0.19.3->gradio_client) (2.2.3)\n",
      "Note: you may need to restart the kernel to use updated packages.\n"
     ]
    }
   ],
   "source": [
    "pip install gradio_client"
   ]
  },
  {
   "cell_type": "code",
   "execution_count": null,
   "id": "ac595b03-d7f6-41e2-b9ed-548842353125",
   "metadata": {},
   "outputs": [
    {
     "name": "stdout",
     "output_type": "stream",
     "text": [
      "Loaded as API: http://127.0.0.1:7860/ ✔\n"
     ]
    }
   ],
   "source": [
    "from gradio_client import Client\n",
    "\n",
    "client = Client(\"http://127.0.0.1:7860/\")\n",
    "result = client.predict(\n",
    "\t\tprompt=\"以“最是人间留不住”为第一句写一首诗\",\n",
    "\t\trhythmic=\"七言绝句/Qiyanjueju\",\n",
    "\t\tapi_name=\"/predict\"\n",
    ")\n",
    "print(result)"
   ]
  },
  {
   "cell_type": "code",
   "execution_count": 1,
   "id": "ed3e904b-2c14-4af2-9b02-54830f281867",
   "metadata": {},
   "outputs": [
    {
     "name": "stderr",
     "output_type": "stream",
     "text": [
      "WARNING: Ignoring invalid distribution ~orch (F:\\anaconda\\Lib\\site-packages)\n",
      "WARNING: Skipping torch as it is not installed.\n"
     ]
    }
   ],
   "source": [
    "!pip uninstall torch"
   ]
  },
  {
   "cell_type": "code",
   "execution_count": null,
   "id": "a927973e-e11e-4dd1-9b55-e1012a08ce24",
   "metadata": {},
   "outputs": [],
   "source": []
  }
 ],
 "metadata": {
  "kernelspec": {
   "display_name": "Python [conda env:base] *",
   "language": "python",
   "name": "conda-base-py"
  },
  "language_info": {
   "codemirror_mode": {
    "name": "ipython",
    "version": 3
   },
   "file_extension": ".py",
   "mimetype": "text/x-python",
   "name": "python",
   "nbconvert_exporter": "python",
   "pygments_lexer": "ipython3",
   "version": "3.12.7"
  }
 },
 "nbformat": 4,
 "nbformat_minor": 5
}
