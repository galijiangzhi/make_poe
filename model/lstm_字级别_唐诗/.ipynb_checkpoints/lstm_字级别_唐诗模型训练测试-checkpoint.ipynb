{
 "cells": [
  {
   "cell_type": "code",
   "execution_count": 1,
   "id": "e449d379-c3e6-486e-9079-49d99fc4c856",
   "metadata": {
    "tags": []
   },
   "outputs": [],
   "source": [
    "import torch\n",
    "import torch.nn as nn\n",
    "import torch.optim as optim"
   ]
  },
  {
   "cell_type": "code",
   "execution_count": 2,
   "id": "8c7df96b-da5a-42a1-951a-21f30a1845a0",
   "metadata": {
    "tags": []
   },
   "outputs": [],
   "source": [
    "# 数据准备\n",
    "input_texts = [\"床前明月光\", \"举头望明月\", \"千山鸟飞绝\"]\n",
    "target_texts = [\"疑是地上霜\", \"低头思故乡\", \"万径人踪灭\"]\n"
   ]
  },
  {
   "cell_type": "code",
   "execution_count": 3,
   "id": "8f482f81-693f-4872-a53f-58404ad5b2db",
   "metadata": {
    "tags": []
   },
   "outputs": [],
   "source": [
    "# 创建字符到索引的映射\n",
    "chars = set(\"\".join(input_texts + target_texts))"
   ]
  },
  {
   "cell_type": "code",
   "execution_count": 5,
   "id": "3dc3067d-94d8-47ad-a737-c5aa84a904e5",
   "metadata": {
    "tags": []
   },
   "outputs": [],
   "source": [
    "char_to_idx = {char: idx for idx, char in enumerate(chars)}\n",
    "idx_to_char = {idx: char for char, idx in char_to_idx.items()}"
   ]
  },
  {
   "cell_type": "code",
   "execution_count": 9,
   "id": "32f170b2-0ea8-433f-ad91-404808e56179",
   "metadata": {
    "tags": []
   },
   "outputs": [],
   "source": [
    "# 将文本转换为索引序列\n",
    "def text_to_seq(text, char_to_idx):\n",
    "    return [char_to_idx[char] for char in text]\n"
   ]
  },
  {
   "cell_type": "code",
   "execution_count": 5,
   "id": "4ed0e3f1-4df1-4f4c-a46e-e84f6090bfb6",
   "metadata": {
    "tags": []
   },
   "outputs": [
    {
     "name": "stdout",
     "output_type": "stream",
     "text": [
      "Epoch [10/100], Loss: 2.9471\n",
      "Epoch [20/100], Loss: 2.4372\n",
      "Epoch [30/100], Loss: 1.7991\n",
      "Epoch [40/100], Loss: 1.1756\n",
      "Epoch [50/100], Loss: 0.7170\n",
      "Epoch [60/100], Loss: 0.4386\n",
      "Epoch [70/100], Loss: 0.2796\n",
      "Epoch [80/100], Loss: 0.1888\n",
      "Epoch [90/100], Loss: 0.1355\n",
      "Epoch [100/100], Loss: 0.1026\n",
      "Input: 床前明月光\n",
      "Target: 疑是地上霜\n",
      "Predicted: 疑是地上霜\n",
      "\n",
      "Input: 举头望明月\n",
      "Target: 低头思故乡\n",
      "Predicted: 低头思故乡\n",
      "\n",
      "Input: 千山鸟飞绝\n",
      "Target: 万径人踪灭\n",
      "Predicted: 万径人踪灭\n",
      "\n"
     ]
    }
   ],
   "source": [
    "\n",
    "input_seqs = [text_to_seq(text, char_to_idx) for text in input_texts]\n",
    "target_seqs = [text_to_seq(text, char_to_idx) for text in target_texts]\n",
    "\n",
    "# 填充序列到相同长度\n",
    "max_len = max(len(seq) for seq in input_seqs + target_seqs)\n",
    "input_seqs = [seq + [0] * (max_len - len(seq)) for seq in input_seqs]\n",
    "target_seqs = [seq + [0] * (max_len - len(seq)) for seq in target_seqs]\n",
    "\n",
    "# 转换为PyTorch张量\n",
    "input_tensor = torch.tensor(input_seqs, dtype=torch.long)\n",
    "target_tensor = torch.tensor(target_seqs, dtype=torch.long)\n",
    "\n",
    "# 定义Seq2Seq模型\n",
    "class Seq2Seq(nn.Module):\n",
    "    def __init__(self, input_size, hidden_size, output_size):\n",
    "        super(Seq2Seq, self).__init__()\n",
    "        self.embedding = nn.Embedding(input_size, hidden_size)\n",
    "        self.encoder = nn.LSTM(hidden_size, hidden_size, batch_first=True)\n",
    "        self.decoder = nn.LSTM(hidden_size, hidden_size, batch_first=True)\n",
    "        self.fc = nn.Linear(hidden_size, output_size)\n",
    "\n",
    "    def forward(self, x):\n",
    "        embedded = self.embedding(x)\n",
    "        _, (hidden, cell) = self.encoder(embedded)\n",
    "        output, _ = self.decoder(embedded, (hidden, cell))\n",
    "        output = self.fc(output)\n",
    "        return output\n",
    "\n",
    "# 模型参数\n",
    "input_size = len(chars)\n",
    "hidden_size = 64\n",
    "output_size = len(chars)\n",
    "\n",
    "# 初始化模型、损失函数和优化器\n",
    "model = Seq2Seq(input_size, hidden_size, output_size)\n",
    "criterion = nn.CrossEntropyLoss()\n",
    "optimizer = optim.Adam(model.parameters(), lr=0.001)\n",
    "\n",
    "# 训练模型\n",
    "epochs = 100\n",
    "for epoch in range(epochs):\n",
    "    optimizer.zero_grad()\n",
    "    output = model(input_tensor)\n",
    "    loss = criterion(output.view(-1, output_size), target_tensor.view(-1))\n",
    "    loss.backward()\n",
    "    optimizer.step()\n",
    "    if (epoch + 1) % 10 == 0:\n",
    "        print(f\"Epoch [{epoch+1}/{epochs}], Loss: {loss.item():.4f}\")\n",
    "\n",
    "# 测试模型\n",
    "with torch.no_grad():\n",
    "    test_output = model(input_tensor)\n",
    "    predicted = torch.argmax(test_output, dim=-1)\n",
    "    for i in range(len(input_texts)):\n",
    "        print(f\"Input: {input_texts[i]}\")\n",
    "        print(f\"Target: {target_texts[i]}\")\n",
    "        print(f\"Predicted: {''.join([idx_to_char[idx.item()] for idx in predicted[i]])}\")\n",
    "        print()"
   ]
  },
  {
   "cell_type": "code",
   "execution_count": 1,
   "id": "8d8a9a72-8677-480c-b3c3-f98706a30c77",
   "metadata": {
    "tags": []
   },
   "outputs": [
    {
     "name": "stderr",
     "output_type": "stream",
     "text": [
      "/opt/conda/lib/python3.10/site-packages/torchtext/data/__init__.py:4: UserWarning: \n",
      "/!\\ IMPORTANT WARNING ABOUT TORCHTEXT STATUS /!\\ \n",
      "Torchtext is deprecated and the last released version will be 0.18 (this one). You can silence this warning by calling the following at the beginnign of your scripts: `import torchtext; torchtext.disable_torchtext_deprecation_warning()`\n",
      "  warnings.warn(torchtext._TORCHTEXT_DEPRECATION_MSG)\n",
      "/opt/conda/lib/python3.10/site-packages/torchtext/vocab/__init__.py:4: UserWarning: \n",
      "/!\\ IMPORTANT WARNING ABOUT TORCHTEXT STATUS /!\\ \n",
      "Torchtext is deprecated and the last released version will be 0.18 (this one). You can silence this warning by calling the following at the beginnign of your scripts: `import torchtext; torchtext.disable_torchtext_deprecation_warning()`\n",
      "  warnings.warn(torchtext._TORCHTEXT_DEPRECATION_MSG)\n",
      "/opt/conda/lib/python3.10/site-packages/torchtext/utils.py:4: UserWarning: \n",
      "/!\\ IMPORTANT WARNING ABOUT TORCHTEXT STATUS /!\\ \n",
      "Torchtext is deprecated and the last released version will be 0.18 (this one). You can silence this warning by calling the following at the beginnign of your scripts: `import torchtext; torchtext.disable_torchtext_deprecation_warning()`\n",
      "  warnings.warn(torchtext._TORCHTEXT_DEPRECATION_MSG)\n"
     ]
    }
   ],
   "source": [
    "import torch\n",
    "from torchtext.data.utils import get_tokenizer\n",
    "from torchtext.vocab import build_vocab_from_iterator\n",
    "from torch.nn.utils.rnn import pad_sequence\n",
    "import torch\n",
    "import pickle\n",
    "from torch.utils.data import DataLoader, Dataset"
   ]
  },
  {
   "cell_type": "code",
   "execution_count": 2,
   "id": "39ccbbdb-ba04-49f7-af41-322a6b15a17c",
   "metadata": {
    "tags": []
   },
   "outputs": [
    {
     "name": "stdout",
     "output_type": "stream",
     "text": [
      "文件已成功读取，共 812548 行。\n",
      "文件已成功读取，共 815991 行。\n",
      "文件已成功读取，共 1599430 行。\n"
     ]
    }
   ],
   "source": [
    "text_list = []\n",
    "def read_text_to_list(filepath,lines):\n",
    "    \"\"\"\n",
    "    读取文本文件，将每一行作为一项保存到列表中。\n",
    "\n",
    "    :param filepath: 文本文件路径\n",
    "    :return: 包含文件每一行内容的列表\n",
    "    \"\"\"\n",
    "    try:\n",
    "        # 打开文件，使用 'r' 模式读取，指定编码为 UTF-8\n",
    "        with open(filepath, 'r', encoding='utf-8') as file:\n",
    "            # 逐行读取文件内容\n",
    "            for line in file:\n",
    "                lines.append(line.strip())  # 去掉行末的换行符并添加到列表\n",
    "        print(f\"文件已成功读取，共 {len(lines)} 行。\")\n",
    "    except Exception as e:\n",
    "        print(f\"读取文件时出错：{e}\")\n",
    "\n",
    "read_text_to_list('../../dataset/data_pro/唐诗/七言唐诗.txt',text_list)\n",
    "read_text_to_list('../../dataset/data_pro/唐诗/六言唐诗.txt',text_list)\n",
    "read_text_to_list('../../dataset/data_pro/唐诗/五言唐诗.txt',text_list)"
   ]
  },
  {
   "cell_type": "code",
   "execution_count": 3,
   "id": "494c62e4-b73b-4ee0-847d-8ae5fef51da9",
   "metadata": {
    "tags": []
   },
   "outputs": [],
   "source": [
    "label_text,target_text = [],[]\n",
    "for i in text_list:\n",
    "    label_text.append(i.split()[0])\n",
    "    target_text.append(i.split()[1])"
   ]
  },
  {
   "cell_type": "code",
   "execution_count": 4,
   "id": "e8b2f540-bf89-481d-848f-d7c0ee4396b9",
   "metadata": {
    "tags": []
   },
   "outputs": [],
   "source": [
    "all_text = ''\n",
    "for i in label_text+target_text:\n",
    "    all_text+=i"
   ]
  },
  {
   "cell_type": "code",
   "execution_count": 33,
   "id": "d7ee8317-c5b5-4372-87b1-8bc3bc3ff05e",
   "metadata": {
    "tags": []
   },
   "outputs": [],
   "source": [
    "# 构建词汇表\n",
    "def yield_tokens(data):\n",
    "    for text in data:\n",
    "        yield tokenizer(text)"
   ]
  },
  {
   "cell_type": "code",
   "execution_count": 25,
   "id": "df37bf25-0fd8-4d26-ab16-d6eb959f152f",
   "metadata": {
    "tags": []
   },
   "outputs": [],
   "source": [
    "# #这个不用跑了 已经保存了\n",
    "# # 初始化分词器（字符级别）\n",
    "tokenizer = get_tokenizer(None)  # 默认按字符分词\n",
    "\n",
    "# vocab = build_vocab_from_iterator(yield_tokens(all_text), specials=[\"<unk>\", \"<pad>\"])\n",
    "# vocab.set_default_index(vocab[\"<unk>\"])"
   ]
  },
  {
   "cell_type": "code",
   "execution_count": 8,
   "id": "58e80246-d5b1-4e7a-97fc-8a74764eb086",
   "metadata": {
    "tags": []
   },
   "outputs": [],
   "source": [
    "# #这个不用跑了 已经保存了\n",
    "# label_sequences = [[torch.tensor(vocab(tokenizer(i)), dtype=torch.long) for i in text] for text in label_text]\n",
    "# target_sequences = [[torch.tensor(vocab(tokenizer(i)), dtype=torch.long) for i in text] for text in target_text]\n",
    "# label_sequences = [torch.tensor(i) for i in label_sequences]\n",
    "# target_sequences = [torch.tensor(i) for i in target_sequences]"
   ]
  },
  {
   "cell_type": "code",
   "execution_count": 9,
   "id": "7ab8fd51-819a-4cff-bc1f-460a56cc461e",
   "metadata": {
    "tags": []
   },
   "outputs": [],
   "source": [
    "# # 填充序列，使它们具有相同的长度\n",
    "# label_sequences = pad_sequence(label_sequences, batch_first=True, padding_value=vocab[\"<pad>\"])\n",
    "# target_sequences = pad_sequence(target_sequences, batch_first=True, padding_value=vocab[\"<pad>\"])"
   ]
  },
  {
   "cell_type": "code",
   "execution_count": 11,
   "id": "8ef23aab-f034-42d5-a098-64c340f9d37a",
   "metadata": {
    "tags": []
   },
   "outputs": [],
   "source": [
    "# torch.save(label_sequences, 'label_sequences.pt')\n",
    "# torch.save(target_sequences, 'target_sequences.pt')"
   ]
  },
  {
   "cell_type": "code",
   "execution_count": 6,
   "id": "c3a01359-97f4-4a94-8fb6-47ed9b3476cf",
   "metadata": {
    "tags": []
   },
   "outputs": [],
   "source": [
    "#读取序列\n",
    "label_sequences = torch.load('label_sequences.pt')\n",
    "target_sequences = torch.load('target_sequences.pt')"
   ]
  },
  {
   "cell_type": "code",
   "execution_count": 126,
   "id": "f0bf9795-4b1d-49b3-b170-953a9e7c27ba",
   "metadata": {
    "tags": []
   },
   "outputs": [],
   "source": [
    "# # 保存 vocab 到文件\n",
    "# with open('./vocab.pkl', 'wb') as f:\n",
    "#     pickle.dump(vocab, f)"
   ]
  },
  {
   "cell_type": "code",
   "execution_count": 7,
   "id": "95db01db-6a49-4a49-99e8-7c92d03fc4ea",
   "metadata": {
    "tags": []
   },
   "outputs": [],
   "source": [
    "# 从文件加载 vocab\n",
    "with open('./vocab.pkl', 'rb') as f:\n",
    "    vocab = pickle.load(f)"
   ]
  },
  {
   "cell_type": "code",
   "execution_count": 8,
   "id": "27ed78b9-c6df-4834-b8aa-27ec14f0c6a5",
   "metadata": {
    "tags": []
   },
   "outputs": [],
   "source": [
    "class TextDataset(Dataset):\n",
    "    def __init__(self, label_sequences, target_sequences):\n",
    "        self.label_sequences = label_sequences\n",
    "        self.target_sequences = target_sequences\n",
    "        \n",
    "    def __len__(self):\n",
    "        return len(self.label_sequences)\n",
    "    \n",
    "    def __getitem__(self, idx):\n",
    "        return self.label_sequences[idx], self.target_sequences[idx]"
   ]
  },
  {
   "cell_type": "code",
   "execution_count": 9,
   "id": "692432a7-0d94-40ab-a4c4-9414cbedcf3c",
   "metadata": {
    "tags": []
   },
   "outputs": [],
   "source": [
    "dataset = TextDataset(label_sequences, target_sequences)\n",
    "dataloader = DataLoader(dataset, batch_size=100000, shuffle=True)"
   ]
  },
  {
   "cell_type": "code",
   "execution_count": 10,
   "id": "e024c9f3-2004-44c7-831a-d634f97a083d",
   "metadata": {
    "tags": []
   },
   "outputs": [
    {
     "name": "stdout",
     "output_type": "stream",
     "text": [
      "LSTMModel(\n",
      "  (embedding): Embedding(3865, 64)\n",
      "  (lstm): LSTM(64, 128, batch_first=True)\n",
      "  (fc): Linear(in_features=128, out_features=3865, bias=True)\n",
      ")\n"
     ]
    }
   ],
   "source": [
    "import torch.nn as nn\n",
    "\n",
    "class LSTMModel(nn.Module):\n",
    "    def __init__(self, vocab_size, embedding_dim, hidden_dim):\n",
    "        super(LSTMModel, self).__init__()\n",
    "        self.embedding = nn.Embedding(vocab_size, embedding_dim)\n",
    "        self.lstm = nn.LSTM(embedding_dim, hidden_dim, batch_first=True)\n",
    "        self.fc = nn.Linear(hidden_dim, vocab_size)\n",
    "\n",
    "    def forward(self, x):\n",
    "        embedded = self.embedding(x)\n",
    "        lstm_out, _ = self.lstm(embedded)\n",
    "        output = self.fc(lstm_out)\n",
    "        return output\n",
    "\n",
    "# 模型参数\n",
    "vocab_size = len(vocab)\n",
    "embedding_dim = 64\n",
    "hidden_dim = 128\n",
    "\n",
    "# 初始化模型\n",
    "model = LSTMModel(vocab_size, embedding_dim, hidden_dim)\n",
    "device = torch.device(\"cuda\" if torch.cuda.is_available() else \"cpu\")\n",
    "model = model.to(device)\n",
    "# 打印模型结构\n",
    "print(model)"
   ]
  },
  {
   "cell_type": "code",
   "execution_count": 20,
   "id": "22255db8-1769-4e87-a6d6-6353ee3b2321",
   "metadata": {
    "tags": []
   },
   "outputs": [
    {
     "name": "stdout",
     "output_type": "stream",
     "text": [
      "Epoch [1/1], Loss: 0.4221\n",
      "Epoch 0 completed in 26.22 seconds\n"
     ]
    }
   ],
   "source": [
    "import torch.optim as optim\n",
    "import time\n",
    "# 损失函数和优化器\n",
    "criterion = nn.CrossEntropyLoss(ignore_index=vocab[\"<pad>\"])  # 忽略填充部分\n",
    "optimizer = optim.Adam(model.parameters(), lr=0.001)\n",
    "model.train()\n",
    "# 训练循环\n",
    "num_epochs = 1\n",
    "for epoch in range(num_epochs):\n",
    "    time1 = time.time()\n",
    "    epoch_loss = 0.0\n",
    "\n",
    "    for batch_labels, batch_targets in dataloader:\n",
    "        # 将数据移动到设备（如 GPU）\n",
    "        batch_labels = batch_labels.to(device)\n",
    "        batch_targets = batch_targets.to(device)\n",
    "\n",
    "        # 前向传播\n",
    "        outputs = model(batch_labels)\n",
    "        loss = criterion(outputs.view(-1, vocab_size), batch_targets.view(-1))\n",
    "\n",
    "        # 反向传播和优化\n",
    "        optimizer.zero_grad()\n",
    "        loss.backward()\n",
    "        optimizer.step()\n",
    "\n",
    "        # 累积损失\n",
    "        epoch_loss += loss.item()\n",
    "\n",
    "    # 打印损失\n",
    "    avg_loss = epoch_loss / len(dataloader)\n",
    "    print(f'Epoch [{epoch+1}/{num_epochs}], Loss: {avg_loss:.4f}')\n",
    "    print(f'Epoch {epoch} completed in {time.time()-time1:.2f} seconds')"
   ]
  },
  {
   "cell_type": "code",
   "execution_count": null,
   "id": "cef3dca5-0e39-4f99-b987-49a1cb01788d",
   "metadata": {
    "tags": []
   },
   "outputs": [],
   "source": [
    "torch.cuda.empty_cache()"
   ]
  },
  {
   "cell_type": "code",
   "execution_count": 21,
   "id": "702e66b2-9381-44c0-b2f8-848527f33236",
   "metadata": {
    "tags": []
   },
   "outputs": [],
   "source": [
    "torch.save(model, 'model_e64_h128.pth')"
   ]
  },
  {
   "cell_type": "code",
   "execution_count": null,
   "id": "ff8e87ac-63d8-4636-84e7-572042f8e7aa",
   "metadata": {},
   "outputs": [],
   "source": [
    "torch.tensor(vocab(tokenizer(text)), dtype=torch.long)"
   ]
  },
  {
   "cell_type": "code",
   "execution_count": 93,
   "id": "c1c7c37b-373d-4a61-af14-b284c17ad08f",
   "metadata": {
    "tags": []
   },
   "outputs": [],
   "source": [
    "def test(text,max_length=50, temperature=1.0):\n",
    "    sequences = [vocab(tokenizer(i))[0] for i in text]\n",
    "    sequences += [0] * (7 - len(sequences))\n",
    "    sequences = torch.tensor(sequences)\n",
    "    tokens = sequences.unsqueeze(0).to(device)\n",
    "    generated_tokens = tokens.tolist()[0]\n",
    "    with torch.no_grad():\n",
    "        for _ in range(7):\n",
    "            # 前向传播\n",
    "            outputs = model(tokens)\n",
    "            \n",
    "            # 获取最后一个时间步的输出\n",
    "            last_output = outputs[:, -1, :] / temperature\n",
    "            probabilities = torch.softmax(last_output, dim=-1)\n",
    "            \n",
    "            # 从概率分布中采样下一个 token\n",
    "            next_token = torch.multinomial(probabilities, num_samples=1).item()\n",
    "            \n",
    "            # 如果生成的是 <eos>（结束符），则停止生成\n",
    "            if next_token == vocab[\"<eos>\"]:\n",
    "                break\n",
    "            \n",
    "            # 将生成的 token 添加到结果中\n",
    "            generated_tokens.append(next_token)\n",
    "            \n",
    "            # 更新输入 tokens\n",
    "            tokens = torch.tensor([generated_tokens]).to(device)\n",
    "    \n",
    "    # 将生成的 token 转换回文本\n",
    "    generated_text = \"\".join([vocab.lookup_token(token) for token in generated_tokens])\n",
    "    # pad_sequence(sequences, batch_first=True, padding_value=vocab[\"<pad>\"])\n",
    "    # torch.tensor(\n",
    "    return generated_text"
   ]
  },
  {
   "cell_type": "code",
   "execution_count": 95,
   "id": "26f55f83-ad1b-460c-b1e1-fe0647a87127",
   "metadata": {
    "tags": []
   },
   "outputs": [
    {
     "data": {
      "text/plain": [
       "'风急天高原<unk><unk>难退干精方韩颜'"
      ]
     },
     "execution_count": 95,
     "metadata": {},
     "output_type": "execute_result"
    }
   ],
   "source": [
    "text = '风急天高原'\n",
    "test(text,max_length=7, temperature=1.0)"
   ]
  },
  {
   "cell_type": "code",
   "execution_count": 83,
   "id": "52838831-c167-4ede-bea7-a01be9ac048e",
   "metadata": {
    "tags": []
   },
   "outputs": [
    {
     "data": {
      "text/plain": [
       "tensor([[   5,  524,   14,   49,  171, 3763,    0]])"
      ]
     },
     "execution_count": 83,
     "metadata": {},
     "output_type": "execute_result"
    }
   ],
   "source": [
    "torch.tensor([vocab(tokenizer(i))[0] for i in \"风急天高远销唉\"]).unsqueeze(0)"
   ]
  },
  {
   "cell_type": "code",
   "execution_count": 106,
   "id": "60d91cd6-eb0d-4a05-953d-76df13adec03",
   "metadata": {
    "tags": []
   },
   "outputs": [],
   "source": [
    "import torch\n",
    "import torch.nn as nn\n",
    "import torch.optim as optim\n",
    "from torch.utils.data import Dataset, DataLoader\n",
    "import numpy as np\n",
    "\n",
    "# 数据\n",
    "qian_list = [\"白日依山尽\", \"床前明月光\", \"春眠不觉晓\"]\n",
    "hou_list = [\"黄河入海流\", \"疑是地上霜\", \"处处闻啼鸟\"]\n",
    "\n",
    "# 构建词汇表\n",
    "vocab = set(\"\".join(qian_list + hou_list))\n",
    "vocab = {char: idx for idx, char in enumerate(vocab)}\n",
    "vocab_size = len(vocab)\n",
    "\n",
    "# 数据预处理\n",
    "def encode(text, vocab):\n",
    "    return [vocab[char] for char in text]\n",
    "\n",
    "# 数据集类\n",
    "class PoetryDataset(Dataset):\n",
    "    def __init__(self, qian_list, hou_list, vocab):\n",
    "        self.qian_list = qian_list\n",
    "        self.hou_list = hou_list\n",
    "        self.vocab = vocab\n",
    "\n",
    "    def __len__(self):\n",
    "        return len(self.qian_list)\n",
    "\n",
    "    def __getitem__(self, idx):\n",
    "        qian = encode(self.qian_list[idx], self.vocab)\n",
    "        hou = encode(self.hou_list[idx], self.vocab)\n",
    "        return torch.tensor(qian, dtype=torch.long), torch.tensor(hou, dtype=torch.long)\n",
    "\n",
    "# LSTM 模型\n",
    "class LSTMModel(nn.Module):\n",
    "    def __init__(self, vocab_size, embed_dim, hidden_dim, output_dim, num_layers=1):\n",
    "        super(LSTMModel, self).__init__()\n",
    "        self.embedding = nn.Embedding(vocab_size, embed_dim)\n",
    "        self.lstm = nn.LSTM(embed_dim, hidden_dim, num_layers, batch_first=True)\n",
    "        self.fc = nn.Linear(hidden_dim, output_dim)\n",
    "\n",
    "    def forward(self, x):\n",
    "        embedded = self.embedding(x)\n",
    "        lstm_out, _ = self.lstm(embedded)\n",
    "        output = self.fc(lstm_out)\n",
    "        return output\n",
    "\n",
    "# 超参数\n",
    "embed_dim = 64\n",
    "hidden_dim = 128\n",
    "output_dim = vocab_size\n",
    "num_layers = 1\n",
    "learning_rate = 0.001\n",
    "num_epochs = 100\n",
    "batch_size = 1\n",
    "\n",
    "# 数据加载器\n",
    "dataset = PoetryDataset(qian_list, hou_list, vocab)\n",
    "dataloader = DataLoader(dataset, batch_size=batch_size, shuffle=True)\n",
    "\n",
    "# 模型、损失函数和优化器\n",
    "device = torch.device(\"cuda\" if torch.cuda.is_available() else \"cpu\")\n",
    "model = LSTMModel(vocab_size, embed_dim, hidden_dim, output_dim, num_layers).to(device)\n",
    "criterion = nn.CrossEntropyLoss()\n",
    "optimizer = optim.Adam(model.parameters(), lr=learning_rate)\n",
    "\n",
    "# 训练"
   ]
  },
  {
   "cell_type": "code",
   "execution_count": 110,
   "id": "214dc79b-c5ef-42b7-a6a2-4282a6c054cb",
   "metadata": {
    "tags": []
   },
   "outputs": [],
   "source": [
    "import torch\n",
    "import torch.nn as nn\n",
    "import torch.optim as optim\n",
    "from torch.utils.data import Dataset, DataLoader\n",
    "import numpy as np\n",
    "\n",
    "# 数据\n",
    "qian_list = [\"白日依山尽\", \"床前明月光\", \"春眠不觉晓\"]\n",
    "hou_list = [\"黄河入海流\", \"疑是地上霜\", \"处处闻啼鸟\"]\n",
    "\n",
    "# 构建词汇表\n",
    "vocab = set(\"\".join(qian_list + hou_list))\n",
    "vocab = {char: idx for idx, char in enumerate(vocab)}\n",
    "vocab_size = len(vocab)"
   ]
  },
  {
   "cell_type": "code",
   "execution_count": null,
   "id": "899d6d9b-9e45-44c3-ac94-1e989bb9c6d2",
   "metadata": {},
   "outputs": [],
   "source": [
    "\n",
    "\n",
    "# 数据预处理\n",
    "def encode(text, vocab):\n",
    "    return [vocab[char] for char in text]\n",
    "\n",
    "# 数据集类\n",
    "class PoetryDataset(Dataset):\n",
    "    def __init__(self, qian_list, hou_list, vocab):\n",
    "        self.qian_list = qian_list\n",
    "        self.hou_list = hou_list\n",
    "        self.vocab = vocab\n",
    "\n",
    "    def __len__(self):\n",
    "        return len(self.qian_list)\n",
    "\n",
    "    def __getitem__(self, idx):\n",
    "        qian = encode(self.qian_list[idx], self.vocab)\n",
    "        hou = encode(self.hou_list[idx], self.vocab)\n",
    "        return torch.tensor(qian, dtype=torch.long), torch.tensor(hou, dtype=torch.long)\n",
    "\n",
    "# LSTM 模型\n",
    "class LSTMModel(nn.Module):\n",
    "    def __init__(self, vocab_size, embed_dim, hidden_dim, output_dim, num_layers=1):\n",
    "        super(LSTMModel, self).__init__()\n",
    "        self.embedding = nn.Embedding(vocab_size, embed_dim)\n",
    "        self.lstm = nn.LSTM(embed_dim, hidden_dim, num_layers, batch_first=True)\n",
    "        self.fc = nn.Linear(hidden_dim, output_dim)\n",
    "\n",
    "    def forward(self, x):\n",
    "        embedded = self.embedding(x)\n",
    "        lstm_out, _ = self.lstm(embedded)\n",
    "        output = self.fc(lstm_out)\n",
    "        return output\n",
    "\n",
    "# 超参数\n",
    "embed_dim = 64\n",
    "hidden_dim = 128\n",
    "output_dim = vocab_size\n",
    "num_layers = 1\n",
    "learning_rate = 0.001\n",
    "num_epochs = 100\n",
    "batch_size = 1\n",
    "\n",
    "# 数据加载器\n",
    "dataset = PoetryDataset(qian_list, hou_list, vocab)\n",
    "dataloader = DataLoader(dataset, batch_size=batch_size, shuffle=True)\n",
    "\n",
    "# 模型、损失函数和优化器\n",
    "device = torch.device(\"cuda\" if torch.cuda.is_available() else \"cpu\")\n",
    "model = LSTMModel(vocab_size, embed_dim, hidden_dim, output_dim, num_layers).to(device)\n",
    "criterion = nn.CrossEntropyLoss()\n",
    "optimizer = optim.Adam(model.parameters(), lr=learning_rate)\n",
    "\n",
    "# 训练\n",
    "for epoch in range(num_epochs):\n",
    "    for qian, hou in dataloader:\n",
    "        qian, hou = qian.to(device), hou.to(device)\n",
    "        \n",
    "        # 前向传播\n",
    "        output = model(qian)\n",
    "        loss = criterion(output.view(-1, output_dim), hou.view(-1))\n",
    "        \n",
    "        # 反向传播\n",
    "        optimizer.zero_grad()\n",
    "        loss.backward()\n",
    "        optimizer.step()\n",
    "    \n",
    "    print(f\"Epoch [{epoch+1}/{num_epochs}], Loss: {loss.item():.4f}\")\n",
    "\n",
    "# 生成文本\n",
    "def generate_text(model, input_text, vocab, max_length=10, device='cpu'):\n",
    "    model.eval()\n",
    "    tokens = encode(input_text, vocab)\n",
    "    tokens = torch.tensor(tokens, dtype=torch.long).unsqueeze(0).to(device)\n",
    "    \n",
    "    generated_text = input_text\n",
    "    for _ in range(max_length):\n",
    "        with torch.no_grad():\n",
    "            output = model(tokens)\n",
    "            probs = torch.softmax(output[:, -1, :], dim=-1)\n",
    "            next_token = torch.argmax(probs, dim=-1).item()\n",
    "        \n",
    "        generated_text += list(vocab.keys())[list(vocab.values()).index(next_token)]\n",
    "        tokens = torch.cat([tokens, torch.tensor([[next_token]], device=device)], dim=1)\n",
    "    \n",
    "    return generated_text\n",
    "\n",
    "# 测试生成\n",
    "input_text = \"白日依山尽\"\n",
    "generated_text = generate_text(model, input_text, vocab, max_length=10, device=device)\n",
    "print(f\"输入: {input_text}\")\n",
    "print(f\"生成: {generated_text}\")"
   ]
  }
 ],
 "metadata": {
  "kernelspec": {
   "display_name": "Python 3 (ipykernel)",
   "language": "python",
   "name": "python3"
  },
  "language_info": {
   "codemirror_mode": {
    "name": "ipython",
    "version": 3
   },
   "file_extension": ".py",
   "mimetype": "text/x-python",
   "name": "python",
   "nbconvert_exporter": "python",
   "pygments_lexer": "ipython3",
   "version": "3.10.11"
  }
 },
 "nbformat": 4,
 "nbformat_minor": 5
}
