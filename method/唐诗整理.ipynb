{
 "cells": [
  {
   "cell_type": "markdown",
   "id": "ebcce20c-8c2b-4a8e-bc59-889f71d377a6",
   "metadata": {},
   "source": [
    "该部分将原来数据集中的唐诗进行繁体转简体，去除标点符号，按照不同的字数进行分类"
   ]
  },
  {
   "cell_type": "code",
   "execution_count": 15,
   "id": "104278c7-abe3-4ee7-82d6-a8454da82f35",
   "metadata": {},
   "outputs": [],
   "source": [
    "import json\n",
    "import os\n",
    "import re\n",
    "from opencc import OpenCC\n",
    "import fnmatch"
   ]
  },
  {
   "cell_type": "code",
   "execution_count": 18,
   "id": "04f4a074-fc44-4898-9783-7295714bdbf3",
   "metadata": {},
   "outputs": [],
   "source": [
    "file_name = [file for file in os.listdir('../dataset/chinese-poetry-master/全唐诗/') if fnmatch.fnmatch(file, '*.json')]\n",
    "file_list = [os.path.join('../dataset/chinese-poetry-master/全唐诗/',i) for i in file_name]"
   ]
  },
  {
   "cell_type": "code",
   "execution_count": 24,
   "id": "dd2c4825-e2ab-4d61-b79d-ed432043c3ae",
   "metadata": {},
   "outputs": [],
   "source": [
    "text_list = []\n",
    "def load_text(path):\n",
    "    with open(file_list[0], 'r', encoding='utf-8') as file:\n",
    "        data = json.load(file)\n",
    "    \n",
    "    # 提取所有 paragraphs\n",
    "    paragraphs_list = [item['paragraphs'] for item in data]\n",
    "    \n",
    "    # 打印结果\n",
    "    for paragraphs in paragraphs_list:\n",
    "        for line in paragraphs:\n",
    "            text_list.append(line)"
   ]
  },
  {
   "cell_type": "code",
   "execution_count": 25,
   "id": "669be9b1-e4d3-4ece-9282-ef78a1f30612",
   "metadata": {},
   "outputs": [],
   "source": [
    "for i in file_list:\n",
    "    load_text(i)"
   ]
  },
  {
   "cell_type": "code",
   "execution_count": 41,
   "id": "2d306d9d-6859-4d72-bac5-49152522773f",
   "metadata": {},
   "outputs": [
    {
     "data": {
      "text/plain": [
       "1713362"
      ]
     },
     "execution_count": 41,
     "metadata": {},
     "output_type": "execute_result"
    }
   ],
   "source": [
    "# 创建 OpenCC 实例，指定转换模式（繁转简）\n",
    "cc = OpenCC('t2s')  # t2s 表示繁体转简体\n",
    "\n",
    "text_list = [cc.convert(re.sub(r'[^\\w\\s]', ' ', i)) for i in text_list]\n",
    "len(text_list)"
   ]
  },
  {
   "cell_type": "code",
   "execution_count": 44,
   "id": "ada2ae8b-fa0f-4f21-8e5e-8866eb8a2203",
   "metadata": {},
   "outputs": [
    {
     "name": "stdout",
     "output_type": "stream",
     "text": [
      "783439 3443 812548\n"
     ]
    }
   ],
   "source": [
    "five_text,six_text,seven_text = [],[],[]\n",
    "for i in text_list:\n",
    "    if re.match(r'^[\\u4e00-\\u9fa5]{7}\\s[\\u4e00-\\u9fa5]{7}\\s$', i):\n",
    "        seven_text.append(i)\n",
    "    elif re.match(r'^[\\u4e00-\\u9fa5]{6}\\s[\\u4e00-\\u9fa5]{6}\\s$', i):\n",
    "        six_text.append(i)\n",
    "    elif re.match(r'^[\\u4e00-\\u9fa5]{5}\\s[\\u4e00-\\u9fa5]{5}\\s$', i):\n",
    "        five_text.append(i)\n",
    "print(len(five_text),len(six_text),len(seven_text))"
   ]
  },
  {
   "cell_type": "code",
   "execution_count": 46,
   "id": "5d0ab867-3748-41a4-82fd-ad9d022585e9",
   "metadata": {},
   "outputs": [
    {
     "name": "stdout",
     "output_type": "stream",
     "text": [
      "文件已成功保存到：../dataset/data_pro/唐诗/五言唐诗.txt\n",
      "文件已成功保存到：../dataset/data_pro/唐诗/六言唐诗.txt\n",
      "文件已成功保存到：../dataset/data_pro/唐诗/七言唐诗.txt\n"
     ]
    }
   ],
   "source": [
    "def save_text(textlist, textpath):\n",
    "    \"\"\"\n",
    "    将列表中的每一项写入文件，每一项占一行，使用 UTF-8 编码。\n",
    "\n",
    "    :param textlist: 包含文本数据的列表\n",
    "    :param textpath: 文件保存路径\n",
    "    \"\"\"\n",
    "    try:\n",
    "        # 打开文件，使用 'w' 模式写入，指定编码为 UTF-8\n",
    "        with open(textpath, 'w', encoding='utf-8') as file:\n",
    "            # 遍历列表，将每一项写入文件\n",
    "            for item in textlist:\n",
    "                file.write(str(item) + '\\n')  # 每项占一行\n",
    "        print(f\"文件已成功保存到：{textpath}\")\n",
    "    except Exception as e:\n",
    "        print(f\"保存文件时出错：{e}\")\n",
    "\n",
    "save_text(five_text,'../dataset/data_pro/唐诗/五言唐诗.txt')\n",
    "save_text(six_text,'../dataset/data_pro/唐诗/六言唐诗.txt')\n",
    "save_text(seven_text,'../dataset/data_pro/唐诗/七言唐诗.txt')"
   ]
  },
  {
   "cell_type": "code",
   "execution_count": null,
   "id": "ae1eca38-d711-4f68-bcff-c24ed936f765",
   "metadata": {},
   "outputs": [],
   "source": []
  }
 ],
 "metadata": {
  "kernelspec": {
   "display_name": "Python [conda env:base] *",
   "language": "python",
   "name": "conda-base-py"
  },
  "language_info": {
   "codemirror_mode": {
    "name": "ipython",
    "version": 3
   },
   "file_extension": ".py",
   "mimetype": "text/x-python",
   "name": "python",
   "nbconvert_exporter": "python",
   "pygments_lexer": "ipython3",
   "version": "3.12.7"
  }
 },
 "nbformat": 4,
 "nbformat_minor": 5
}
